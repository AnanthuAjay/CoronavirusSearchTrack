{
  "nbformat": 4,
  "nbformat_minor": 0,
  "metadata": {
    "colab": {
      "name": "CoronavirusSreachTrack.ipynb",
      "provenance": [],
      "collapsed_sections": []
    },
    "kernelspec": {
      "name": "python3",
      "display_name": "Python 3"
    }
  },
  "cells": [
    {
      "cell_type": "code",
      "metadata": {
        "id": "eQMphnzMCa-B",
        "colab_type": "code",
        "outputId": "5272619d-dc61-462c-d41a-8eb6c48365c4",
        "colab": {
          "base_uri": "https://localhost:8080/",
          "height": 353
        }
      },
      "source": [
        "pip install pytrends"
      ],
      "execution_count": 8,
      "outputs": [
        {
          "output_type": "stream",
          "text": [
            "Collecting pytrends\n",
            "  Downloading https://files.pythonhosted.org/packages/74/a4/c1b1242be7d31650c6d9128a776c753db18f0e83290aaea0dd80dd31374b/pytrends-4.7.2.tar.gz\n",
            "Requirement already satisfied: requests in /usr/local/lib/python3.6/dist-packages (from pytrends) (2.21.0)\n",
            "Requirement already satisfied: pandas in /usr/local/lib/python3.6/dist-packages (from pytrends) (0.25.3)\n",
            "Requirement already satisfied: lxml in /usr/local/lib/python3.6/dist-packages (from pytrends) (4.2.6)\n",
            "Requirement already satisfied: urllib3<1.25,>=1.21.1 in /usr/local/lib/python3.6/dist-packages (from requests->pytrends) (1.24.3)\n",
            "Requirement already satisfied: idna<2.9,>=2.5 in /usr/local/lib/python3.6/dist-packages (from requests->pytrends) (2.8)\n",
            "Requirement already satisfied: certifi>=2017.4.17 in /usr/local/lib/python3.6/dist-packages (from requests->pytrends) (2019.11.28)\n",
            "Requirement already satisfied: chardet<3.1.0,>=3.0.2 in /usr/local/lib/python3.6/dist-packages (from requests->pytrends) (3.0.4)\n",
            "Requirement already satisfied: numpy>=1.13.3 in /usr/local/lib/python3.6/dist-packages (from pandas->pytrends) (1.18.2)\n",
            "Requirement already satisfied: pytz>=2017.2 in /usr/local/lib/python3.6/dist-packages (from pandas->pytrends) (2018.9)\n",
            "Requirement already satisfied: python-dateutil>=2.6.1 in /usr/local/lib/python3.6/dist-packages (from pandas->pytrends) (2.8.1)\n",
            "Requirement already satisfied: six>=1.5 in /usr/local/lib/python3.6/dist-packages (from python-dateutil>=2.6.1->pandas->pytrends) (1.12.0)\n",
            "Building wheels for collected packages: pytrends\n",
            "  Building wheel for pytrends (setup.py) ... \u001b[?25l\u001b[?25hdone\n",
            "  Created wheel for pytrends: filename=pytrends-4.7.2-cp36-none-any.whl size=14261 sha256=a30bdda72f76b3cf37878ab4fa1abea23529068e6619f7e9fffa0ea46ffc3543\n",
            "  Stored in directory: /root/.cache/pip/wheels/64/ae/af/51d48fbbca0563036c6f80999b7ce3f097fa591fd165047baf\n",
            "Successfully built pytrends\n",
            "Installing collected packages: pytrends\n",
            "Successfully installed pytrends-4.7.2\n"
          ],
          "name": "stdout"
        }
      ]
    },
    {
      "cell_type": "code",
      "metadata": {
        "id": "3RDHibHDL6fK",
        "colab_type": "code",
        "colab": {}
      },
      "source": [
        "from pytrends.request import TrendReq"
      ],
      "execution_count": 0,
      "outputs": []
    },
    {
      "cell_type": "code",
      "metadata": {
        "id": "POkfGKwqSq_L",
        "colab_type": "code",
        "colab": {}
      },
      "source": [
        "pytrends = TrendReq(hl='en-US', tz=360)\n",
        "pytrends.build_payload(['Coronavirus'], cat=0, timeframe='2020-02-01 2020-03-20',  gprop='', geo='US-NY')"
      ],
      "execution_count": 0,
      "outputs": []
    },
    {
      "cell_type": "code",
      "metadata": {
        "id": "oPjD9EkWS-h7",
        "colab_type": "code",
        "colab": {
          "base_uri": "https://localhost:8080/",
          "height": 134
        },
        "outputId": "fafe9d59-8d7b-4f32-b728-3dab527e12da"
      },
      "source": [
        "df = pytrends.interest_over_time()\n",
        "print(df.head())"
      ],
      "execution_count": 13,
      "outputs": [
        {
          "output_type": "stream",
          "text": [
            "            Coronavirus  isPartial\n",
            "date                              \n",
            "2020-02-01           10      False\n",
            "2020-02-02           10      False\n",
            "2020-02-03           10      False\n",
            "2020-02-04            8      False\n",
            "2020-02-05            7      False\n"
          ],
          "name": "stdout"
        }
      ]
    },
    {
      "cell_type": "code",
      "metadata": {
        "id": "GlD3xUv3TFHZ",
        "colab_type": "code",
        "colab": {}
      },
      "source": [
        "def get_searches(key_word, state):\n",
        "    pytrends = TrendReq(hl='en-US', tz=360)\n",
        "    pytrends.build_payload([key_word], cat=0, timeframe='2020-02-01 2020-03-20',  gprop='',geo='US-{}'.format(state))    \n",
        "    df = pytrends.interest_over_time()\n",
        "            \n",
        "    \n",
        "    print(df.head())\n",
        "    \n",
        "    sns.set()\n",
        "    df['timestamp'] = pd.to_datetime(df.index)\n",
        "    sns.lineplot(df['timestamp'], df[key_word])\n",
        "    \n",
        "    plt.title(\"Normalized Searches for {} in {}\".format(key_word, state))\n",
        "    plt.ylabel(\"Number of Searches\")\n",
        "    plt.xlabel(\"Date\")"
      ],
      "execution_count": 0,
      "outputs": []
    },
    {
      "cell_type": "code",
      "metadata": {
        "id": "jmfdr7Vlg8ZR",
        "colab_type": "code",
        "colab": {
          "base_uri": "https://localhost:8080/",
          "height": 418
        },
        "outputId": "2f3aa666-d73b-446e-fbcb-6d885fe53dee"
      },
      "source": [
        "get_searches('Coronavirus', 'NY')"
      ],
      "execution_count": 20,
      "outputs": [
        {
          "output_type": "stream",
          "text": [
            "            Coronavirus  isPartial\n",
            "date                              \n",
            "2020-02-01           10      False\n",
            "2020-02-02           10      False\n",
            "2020-02-03           10      False\n",
            "2020-02-04            8      False\n",
            "2020-02-05            7      False\n"
          ],
          "name": "stdout"
        },
        {
          "output_type": "display_data",
          "data": {
            "image/png": "[encoded data removed]",
            "text/plain": [
              "<Figure size 432x288 with 1 Axes>"
            ]
          },
          "metadata": {
            "tags": []
          }
        }
      ]
    }
  ]
}